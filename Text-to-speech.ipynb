{
 "cells": [
  {
   "cell_type": "markdown",
   "metadata": {},
   "source": [
    "# Text to speech Methods"
   ]
  },
  {
   "cell_type": "code",
   "execution_count": 8,
   "metadata": {},
   "outputs": [],
   "source": [
    "# Method 1:\n",
    "#Using Google cloud text-to-speech API"
   ]
  },
  {
   "cell_type": "code",
   "execution_count": 1,
   "metadata": {},
   "outputs": [],
   "source": [
    "import vlc"
   ]
  },
  {
   "cell_type": "code",
   "execution_count": 2,
   "metadata": {},
   "outputs": [],
   "source": [
    "def synthesize_text(text):\n",
    "    \"\"\"Synthesizes speech from the input string of text.\"\"\"\n",
    "    from google.cloud import texttospeech\n",
    "    import vlc\n",
    "    client = texttospeech.TextToSpeechClient()\n",
    "\n",
    "    input_text = texttospeech.types.SynthesisInput(text=text)\n",
    "\n",
    "    # Note: the voice can also be specified by name.\n",
    "    # Names of voices can be retrieved with client.list_voices().\n",
    "    voice = texttospeech.types.VoiceSelectionParams(\n",
    "        language_code='en-US',\n",
    "        ssml_gender=texttospeech.enums.SsmlVoiceGender.FEMALE)\n",
    "\n",
    "    audio_config = texttospeech.types.AudioConfig(\n",
    "        audio_encoding=texttospeech.enums.AudioEncoding.MP3)\n",
    "\n",
    "    response = client.synthesize_speech(input_text, voice, audio_config)\n",
    "    \n",
    "\n",
    "    # The response's audio_content is binary.\n",
    "    with open('output.mp3', 'wb') as out:\n",
    "            out.write(response.audio_content)\n",
    "            print('Audio content written to file \"output.mp3\"')\n",
    "            \n",
    "    vlc_ins=vlc.MediaPlayer('output.mp3')\n",
    "    vlc_ins.play()\n",
    "    "
   ]
  },
  {
   "cell_type": "code",
   "execution_count": null,
   "metadata": {},
   "outputs": [],
   "source": []
  },
  {
   "cell_type": "code",
   "execution_count": 3,
   "metadata": {},
   "outputs": [
    {
     "name": "stdout",
     "output_type": "stream",
     "text": [
      "Audio content written to file \"output.mp3\"\n"
     ]
    }
   ],
   "source": [
    "Text='Hello how are you Ankit Raj'\n",
    "synthesize_text(Text)"
   ]
  },
  {
   "cell_type": "code",
   "execution_count": null,
   "metadata": {},
   "outputs": [],
   "source": []
  },
  {
   "cell_type": "code",
   "execution_count": 4,
   "metadata": {},
   "outputs": [],
   "source": [
    "# Method 2:\n",
    "# By Using gtts(calling google text to speech api) library"
   ]
  },
  {
   "cell_type": "code",
   "execution_count": 6,
   "metadata": {},
   "outputs": [],
   "source": [
    "text=\"source is delhi. '\\n' destination is mumbai.'\\n' day is not present\""
   ]
  },
  {
   "cell_type": "code",
   "execution_count": 7,
   "metadata": {},
   "outputs": [],
   "source": [
    "def gtts_play(text,p='ankit_gtts_test.mp3'):\n",
    "    import gtts\n",
    "    import os\n",
    "    tts=gtts.gTTS(text,lang=\"en\")\n",
    "    tts.save(\"/home/raj/Downloads/Google-API-key&gcd sdk/\"+p)\n",
    "    vlc_ins=vlc.MediaPlayer('/home/raj/Downloads/Google-API-key&gcd sdk/'+p)\n",
    "    vlc_ins.play()"
   ]
  },
  {
   "cell_type": "code",
   "execution_count": 8,
   "metadata": {},
   "outputs": [
    {
     "name": "stderr",
     "output_type": "stream",
     "text": [
      "/home/raj/anaconda3/lib/python3.6/site-packages/requests/packages/urllib3/connectionpool.py:852: InsecureRequestWarning: Unverified HTTPS request is being made. Adding certificate verification is strongly advised. See: https://urllib3.readthedocs.io/en/latest/advanced-usage.html#ssl-warnings\n",
      "  InsecureRequestWarning)\n"
     ]
    }
   ],
   "source": [
    "gtts_play(text)"
   ]
  },
  {
   "cell_type": "code",
   "execution_count": null,
   "metadata": {},
   "outputs": [],
   "source": []
  },
  {
   "cell_type": "code",
   "execution_count": null,
   "metadata": {},
   "outputs": [],
   "source": [
    "# Method 3:\n",
    "# using pyttsx3"
   ]
  },
  {
   "cell_type": "code",
   "execution_count": 11,
   "metadata": {},
   "outputs": [],
   "source": [
    "import pyttsx3\n",
    "engine=pyttsx3.init()\n",
    "#speech rate\n",
    "rate=engine.getProperty('rate')\n",
    "engine.setProperty('rate',rate)"
   ]
  },
  {
   "cell_type": "code",
   "execution_count": 12,
   "metadata": {},
   "outputs": [],
   "source": [
    "engine.say('source is delhi. \"\"\\n destination is mumbai.\"\\n\" day is not present')\n",
    "engine.runAndWait()"
   ]
  },
  {
   "cell_type": "code",
   "execution_count": null,
   "metadata": {},
   "outputs": [],
   "source": [
    "#different voices in pyttsx3\n",
    "engine = pyttsx3.init()\n",
    "voices = engine.getProperty('voices')\n",
    "#using various voices\n",
    "for voice in voices:\n",
    "    engine.setProperty('voice', voice.id)\n",
    "    engine.say('The quick brown fox jumped over the lazy dog.')\n",
    "engine.runAndWait()"
   ]
  },
  {
   "cell_type": "code",
   "execution_count": null,
   "metadata": {},
   "outputs": [],
   "source": []
  },
  {
   "cell_type": "code",
   "execution_count": null,
   "metadata": {},
   "outputs": [],
   "source": [
    "# Method 4:\n",
    "# using IBM watson API"
   ]
  },
  {
   "cell_type": "code",
   "execution_count": 2,
   "metadata": {},
   "outputs": [
    {
     "name": "stdout",
     "output_type": "stream",
     "text": [
      "Transform 'Hello World' into sound\n"
     ]
    },
    {
     "name": "stderr",
     "output_type": "stream",
     "text": [
      "/usr/local/lib/python2.7/dist-packages/urllib3/connectionpool.py:858: InsecureRequestWarning: Unverified HTTPS request is being made. Adding certificate verification is strongly advised. See: https://urllib3.readthedocs.io/en/latest/advanced-usage.html#ssl-warnings\n",
      "  InsecureRequestWarning)\n"
     ]
    },
    {
     "name": "stdout",
     "output_type": "stream",
     "text": [
      "Text: 'Hello World' has been transformed !\n"
     ]
    }
   ],
   "source": [
    "# for python 2\n",
    "from tts_watson.TtsWatson import TtsWatson\n",
    "\n",
    "ttsWatson = TtsWatson('<KEY>', '<PASSWORD>', 'en-US_AllisonVoice') \n",
    "ttsWatson.play(\"Hello World\")"
   ]
  },
  {
   "cell_type": "code",
   "execution_count": null,
   "metadata": {},
   "outputs": [],
   "source": [
    "# Other methods"
   ]
  },
  {
   "cell_type": "code",
   "execution_count": null,
   "metadata": {},
   "outputs": [],
   "source": [
    "sudo apt-get install gnustep-gui-runtime\n",
    "say \"hello\""
   ]
  },
  {
   "cell_type": "code",
   "execution_count": null,
   "metadata": {},
   "outputs": [],
   "source": [
    "sudo apt-get install speech-dispatcher\n",
    "spd-say \"hello\""
   ]
  }
 ],
 "metadata": {
  "kernelspec": {
   "display_name": "python-3",
   "language": "python",
   "name": "python-3"
  },
  "language_info": {
   "codemirror_mode": {
    "name": "ipython",
    "version": 2
   },
   "file_extension": ".py",
   "mimetype": "text/x-python",
   "name": "python",
   "nbconvert_exporter": "python",
   "pygments_lexer": "ipython2",
   "version": "2.7.12"
  }
 },
 "nbformat": 4,
 "nbformat_minor": 2
}
